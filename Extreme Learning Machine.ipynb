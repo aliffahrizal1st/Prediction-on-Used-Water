{
  "nbformat": 4,
  "nbformat_minor": 0,
  "metadata": {
    "colab": {
      "name": "Copy of Copy of ELM v1.2 (Data Acak) .ipynb",
      "provenance": [],
      "collapsed_sections": []
    },
    "kernelspec": {
      "name": "python3",
      "display_name": "Python 3"
    }
  },
  "cells": [
    {
      "cell_type": "markdown",
      "metadata": {
        "id": "X_vb0OSZrnUB"
      },
      "source": [
        "# **Additional (Library, Comment, etc)**"
      ]
    },
    {
      "cell_type": "code",
      "metadata": {
        "id": "J1IV337k1bRD",
        "colab": {
          "base_uri": "https://localhost:8080/"
        },
        "outputId": "3073a2c7-b406-4013-d287-4a5e643b15e2"
      },
      "source": [
        "import pandas as pd\n",
        "import numpy as np\n",
        "import random as ra\n",
        "from google.colab import files, drive\n",
        "drive.mount('/content/gdrive')"
      ],
      "execution_count": null,
      "outputs": [
        {
          "output_type": "stream",
          "text": [
            "Drive already mounted at /content/gdrive; to attempt to forcibly remount, call drive.mount(\"/content/gdrive\", force_remount=True).\n"
          ],
          "name": "stdout"
        }
      ]
    },
    {
      "cell_type": "markdown",
      "metadata": {
        "id": "cwCadn61rxQN"
      },
      "source": [
        "# **Initialization**"
      ]
    },
    {
      "cell_type": "markdown",
      "metadata": {
        "id": "eHVOeRzvmg2I"
      },
      "source": [
        "**Bobot & Bias**"
      ]
    },
    {
      "cell_type": "code",
      "metadata": {
        "id": "dpjFYj0NDOFC"
      },
      "source": [
        "def weight(n_input,n_hidden):\n",
        "  hidden = []\n",
        "  for i in range(n_hidden):\n",
        "    hidden.append([])\n",
        "    for j in range(n_input):\n",
        "      rand = ra.uniform(-0.5,0.5)\n",
        "      hidden[i].append(rand)\n",
        "  return hidden"
      ],
      "execution_count": null,
      "outputs": []
    },
    {
      "cell_type": "code",
      "metadata": {
        "id": "Bozz4uGWrR2B"
      },
      "source": [
        "def bias(n_hidden):\n",
        "  hidden = []\n",
        "  for i in range(n_hidden):\n",
        "    rand = ra.uniform(-0.5,0.5)\n",
        "    hidden.append(rand)\n",
        "  return hidden"
      ],
      "execution_count": null,
      "outputs": []
    },
    {
      "cell_type": "markdown",
      "metadata": {
        "id": "NbBADPHqr7CP"
      },
      "source": [
        "# **Inside the Model**"
      ]
    },
    {
      "cell_type": "markdown",
      "metadata": {
        "id": "a-LqmMnP2yBa"
      },
      "source": [
        "**Normalisasi**"
      ]
    },
    {
      "cell_type": "code",
      "metadata": {
        "id": "k4sU7NX1f-Wf"
      },
      "source": [
        "def normalisasi(data):\n",
        "  data = data.astype(float)\n",
        "  dataMax = data[0][0]\n",
        "  dataMin = data[0][0]\n",
        "  for i in data:\n",
        "    if (dataMax < np.max(i)):\n",
        "      dataMax = np.max(i)\n",
        "    elif (dataMin > np.min(i)):\n",
        "      dataMin = np.min(i)\n",
        "  for i in range(len(data)):\n",
        "    for j in range(len(data[i])):\n",
        "      data[i][j] = (data[i][j] - dataMin)/(dataMax - dataMin)\n",
        "  return data,dataMin,dataMax"
      ],
      "execution_count": null,
      "outputs": []
    },
    {
      "cell_type": "markdown",
      "metadata": {
        "id": "Y8IWTek6duuu"
      },
      "source": [
        "**Split Dataset**"
      ]
    },
    {
      "cell_type": "code",
      "metadata": {
        "id": "x6fNqHwcd6e9"
      },
      "source": [
        "def splittingData(data,split):\n",
        "  split = int(split * len(data))\n",
        "  train, test = data[:split], data[split:]\n",
        "  return train,test"
      ],
      "execution_count": null,
      "outputs": []
    },
    {
      "cell_type": "markdown",
      "metadata": {
        "id": "CTe5rcLp8Rcw"
      },
      "source": [
        "**Training**"
      ]
    },
    {
      "cell_type": "code",
      "metadata": {
        "id": "cLErPM1irfdt"
      },
      "source": [
        "def sigmoid(in_hidden):\n",
        "  for i in range(len(in_hidden)):\n",
        "    for j in range(len(in_hidden[i])):\n",
        "      in_hidden[i][j] = 1.0/(1.0 + np.exp(-in_hidden[i][j]))\n",
        "  return in_hidden"
      ],
      "execution_count": null,
      "outputs": []
    },
    {
      "cell_type": "code",
      "metadata": {
        "id": "XvE_U0qZrimH"
      },
      "source": [
        "def moorePenrose(out_hidden):\n",
        "  hPlus = np.dot(np.linalg.inv(np.dot(out_hidden.T,out_hidden)),out_hidden.T)\n",
        "  return hPlus"
      ],
      "execution_count": null,
      "outputs": []
    },
    {
      "cell_type": "code",
      "metadata": {
        "id": "fw6uFK7lt8-x"
      },
      "source": [
        "def outputWeight(hPlus,y_train):\n",
        "  out_weight = np.dot(hPlus,y_train)\n",
        "  return out_weight"
      ],
      "execution_count": null,
      "outputs": []
    },
    {
      "cell_type": "code",
      "metadata": {
        "id": "Y9A2Arhi91Bi"
      },
      "source": [
        "def outputHidden(x_train,tw_hidden,b_hidden):\n",
        "  in_hidden = np.dot(x_train,tw_hidden)\n",
        "  for i in range(len(in_hidden)):\n",
        "    for j in range(len(in_hidden[0])):\n",
        "      in_hidden[i][j]= in_hidden[i][j] + b_hidden[j]\n",
        "  out_hidden = sigmoid(in_hidden)\n",
        "  return in_hidden,out_hidden"
      ],
      "execution_count": null,
      "outputs": []
    },
    {
      "cell_type": "code",
      "metadata": {
        "id": "gSghXPFElHHa"
      },
      "source": [
        "def training(x_train,y_train,w_hidden,b_hidden):\n",
        "  in_hidden,out_hidden = outputHidden(x_train,np.transpose(w_hidden),b_hidden)\n",
        "  hPlus = moorePenrose(out_hidden)\n",
        "  out_weight = outputWeight(hPlus,y_train)\n",
        "  return out_weight"
      ],
      "execution_count": null,
      "outputs": []
    },
    {
      "cell_type": "markdown",
      "metadata": {
        "id": "4hHdxtQcvBj3"
      },
      "source": [
        "**Testing**"
      ]
    },
    {
      "cell_type": "code",
      "metadata": {
        "id": "gyV5k2VrvDH2"
      },
      "source": [
        "def testing(x_test,y_test,w_hidden,b_hidden,out_weight):\n",
        "  in_hidden,out_hidden = outputHidden(x_test,np.transpose(w_hidden),b_hidden)\n",
        "  predict = np.dot(out_hidden,out_weight)\n",
        "  return predict"
      ],
      "execution_count": null,
      "outputs": []
    },
    {
      "cell_type": "markdown",
      "metadata": {
        "id": "_Xzgr9bM8aEi"
      },
      "source": [
        "**Denormalisasi (AMAN)**"
      ]
    },
    {
      "cell_type": "code",
      "metadata": {
        "id": "0iae4iM80n-j"
      },
      "source": [
        "def denormalisasi(data,minimum,maksimum):\n",
        "  if (isinstance(data[0], list) == False) :\n",
        "      data = [[i] for i in data]\n",
        "  hasil = []\n",
        "  for i in range(len(data)):\n",
        "    value = (data[i][0]*(maksimum-minimum))+minimum\n",
        "    hasil.append(value)\n",
        "  return hasil"
      ],
      "execution_count": null,
      "outputs": []
    },
    {
      "cell_type": "markdown",
      "metadata": {
        "id": "kPXBnW_68viE"
      },
      "source": [
        "**RMSE (AMAN)**"
      ]
    },
    {
      "cell_type": "code",
      "metadata": {
        "id": "aCK6m-qBidzS"
      },
      "source": [
        "def evaluasi(aktual,prediksi):\n",
        "  hasil = 0\n",
        "  for i in range(len(aktual)):\n",
        "    hasil += (aktual[i]-prediksi[i])**2\n",
        "  hasil = (hasil/len(prediksi))**.5\n",
        "  return hasil"
      ],
      "execution_count": null,
      "outputs": []
    },
    {
      "cell_type": "markdown",
      "metadata": {
        "id": "3qXVqPa4rKQW"
      },
      "source": [
        "# **Main**"
      ]
    },
    {
      "cell_type": "code",
      "metadata": {
        "id": "QtGEwkEBrNAV",
        "colab": {
          "base_uri": "https://localhost:8080/"
        },
        "outputId": "5efb0f08-ea9c-44f0-b5cd-ba2d1384e3f9"
      },
      "source": [
        "dataset = pd.read_excel('/content/gdrive/My Drive/Skripsi/Dataset/Real/DRD.xlsx',sheet_name='6 Fitur')\n",
        "dataset,dataMin,dataMax = normalisasi(dataset[dataset.columns[:7]].values)\n",
        "ra.shuffle(dataset)\n",
        "nor_data = dataset[:,:6]\n",
        "nor_target = dataset[:,6]\n",
        "\n",
        "split = 0.8\n",
        "x_train,x_test = splittingData(nor_data,split)\n",
        "y_train,y_test = splittingData(nor_target,split)\n",
        "\n",
        "for i in range(10):\n",
        "  n_input = len(x_train[0])\n",
        "  n_hidden = 5\n",
        "  w_hidden = weight(n_input,n_hidden)\n",
        "  b_hidden = bias(n_hidden)\n",
        "\n",
        "  out_weight = training(x_train,y_train,w_hidden,b_hidden)\n",
        "  predict = testing(x_test,y_test,w_hidden,b_hidden,out_weight)\n",
        "  denor_target_predict = denormalisasi(predict,dataMin,dataMax)\n",
        "  denor_target_aktual = denormalisasi(y_test,dataMin,dataMax)\n",
        "  eval = evaluasi(denor_target_aktual,denor_target_predict)\n",
        "  print(eval)"
      ],
      "execution_count": null,
      "outputs": [
        {
          "output_type": "stream",
          "text": [
            "21358.415593339687\n",
            "14934.064901264574\n",
            "13979.599678115428\n",
            "15441.814109412995\n",
            "20390.271498281312\n",
            "12882.273036700877\n",
            "16674.77926060919\n",
            "19747.107219940903\n",
            "16164.809951221265\n",
            "12802.27779790136\n"
          ],
          "name": "stdout"
        }
      ]
    }
  ]
}